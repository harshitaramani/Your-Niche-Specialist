{
 "cells": [
  {
   "cell_type": "code",
   "execution_count": 2,
   "id": "fb5feb21",
   "metadata": {},
   "outputs": [
    {
     "name": "stdout",
     "output_type": "stream",
     "text": [
      "Collecting package metadata (current_repodata.json): ...working... done\n",
      "Note: you may need to restart the kernel to use updated packages.\n",
      "\n",
      "Solving environment: ...working... done\n",
      "\n",
      "# All requested packages already installed.\n",
      "\n"
     ]
    }
   ],
   "source": [
    "conda install selenium"
   ]
  },
  {
   "cell_type": "code",
   "execution_count": 127,
   "id": "56fd8b7d",
   "metadata": {},
   "outputs": [],
   "source": [
    "import pandas as pd\n",
    "import re\n",
    "from selenium import webdriver\n",
    "from selenium.webdriver.common.keys import Keys"
   ]
  },
  {
   "cell_type": "code",
   "execution_count": 128,
   "id": "5bc54478",
   "metadata": {},
   "outputs": [],
   "source": [
    "browser=webdriver.Chrome(\"chromedriver.exe\")\n",
    "browser.get(\"https://www.linkedin.com\")"
   ]
  },
  {
   "cell_type": "code",
   "execution_count": 129,
   "id": "3755b7ca",
   "metadata": {},
   "outputs": [],
   "source": [
    "username=browser.find_element_by_id(\"session_key\")\n",
    "username.send_keys(\"kanekiken181818@gmail.com\")\n",
    "password=browser.find_element_by_id(\"session_password\")\n",
    "password.send_keys(\"kanekiken18\")"
   ]
  },
  {
   "cell_type": "code",
   "execution_count": 130,
   "id": "a1c53e2b",
   "metadata": {},
   "outputs": [],
   "source": [
    "login_button=browser.find_element_by_class_name(\"sign-in-form__submit-button\")\n",
    "login_button.click()"
   ]
  },
  {
   "cell_type": "code",
   "execution_count": 131,
   "id": "aeb5e398",
   "metadata": {},
   "outputs": [],
   "source": [
    "browser.get(\"https://www.linkedin.com/jobs/\")"
   ]
  },
  {
   "cell_type": "code",
   "execution_count": 132,
   "id": "6796a87b",
   "metadata": {},
   "outputs": [
    {
     "name": "stdout",
     "output_type": "stream",
     "text": [
      "['Human Resources Intern', 'Student Intern', 'Online work from anywhere', 'Online work', 'Online work home', 'Work From Anywhere', 'Business Development Associate']\n",
      "\n",
      "7\n"
     ]
    }
   ],
   "source": [
    "job=browser.find_elements_by_class_name(\"job-card-list__title\")\n",
    "c=[]\n",
    "for i in job:\n",
    "    #print(i.text)\n",
    "    c.append(i.text)\n",
    "print(c)\n",
    "print()\n",
    "print(len(c))"
   ]
  },
  {
   "cell_type": "code",
   "execution_count": 133,
   "id": "65cb208b",
   "metadata": {},
   "outputs": [
    {
     "name": "stdout",
     "output_type": "stream",
     "text": [
      "['Human Resources Intern', 'Student Intern', 'Online work from anywher', 'Online work', 'Online work hom', 'Work From Anywher', 'Business Development Associa']\n",
      "7\n"
     ]
    }
   ],
   "source": [
    "job_title=[]\n",
    "for i in range(len(c)):\n",
    "    job_title.append(c[i].strip(\"Job Title\\n\"))\n",
    "    job_title\n",
    "\n",
    "print(job_title)\n",
    "print(len(job_title))"
   ]
  },
  {
   "cell_type": "code",
   "execution_count": 135,
   "id": "85489c94",
   "metadata": {},
   "outputs": [
    {
     "name": "stdout",
     "output_type": "stream",
     "text": [
      "['Aashman Foundation', 'Aashman Foundation', 'Work From Home', 'Online Work', 'ONLINE WORK FROM HOME OPPORTUNITY', 'Work from Anywhere', \"BYJU'S\"]\n",
      "\n",
      "7\n"
     ]
    }
   ],
   "source": [
    "job2=browser.find_elements_by_class_name(\"job-card-container__company-name\")\n",
    "comp_name=[]\n",
    "for i in job2:\n",
    "    #print(i.text)\n",
    "    comp_name.append(i.text)\n",
    "print(comp_name)\n",
    "print()\n",
    "print(len(comp_name))"
   ]
  },
  {
   "cell_type": "code",
   "execution_count": 136,
   "id": "0bd52e6e",
   "metadata": {},
   "outputs": [
    {
     "name": "stdout",
     "output_type": "stream",
     "text": [
      "['Cuttack, Orissa, India', 'Haryana, India', 'Remote', 'Ahmedabad, Gujarat, India', 'Hybrid', 'Mumbai, Maharashtra, India', 'Kota, Rajasthan, India', 'On-site', 'Sonipat, Haryana, India', 'On-site', 'Hyderabad, Telangana, India', 'On-site']\n",
      "\n",
      "12\n"
     ]
    }
   ],
   "source": [
    "job3 = browser.find_elements_by_class_name(\"job-card-container__metadata-item\")\n",
    "loc_name=[]\n",
    "for i in job3:\n",
    "    #print(i.text)\n",
    "    loc_name.append(i.text)\n",
    "print(loc_name)\n",
    "print()\n",
    "print(len(loc_name))"
   ]
  },
  {
   "cell_type": "code",
   "execution_count": 116,
   "id": "d7515f94",
   "metadata": {},
   "outputs": [],
   "source": [
    "comp_name.append(\" \")\n",
    "comp_name.append(\" \")"
   ]
  },
  {
   "cell_type": "code",
   "execution_count": 117,
   "id": "32d4851c",
   "metadata": {},
   "outputs": [
    {
     "data": {
      "text/plain": [
       "8"
      ]
     },
     "execution_count": 117,
     "metadata": {},
     "output_type": "execute_result"
    }
   ],
   "source": [
    "len(comp_name)\n"
   ]
  },
  {
   "cell_type": "code",
   "execution_count": 137,
   "id": "1deff472",
   "metadata": {},
   "outputs": [],
   "source": [
    "data = {'Company Name':['Aashman foundation', 'Aashman Foundation', 'Aashman Foundation', 'Forever Living Products India', 'Forever Living Products India', 'Bizgurukul Earnings', 'Aashman foundation'],\"Job Title\":['Content writting internship', 'Internship Train', 'Online work', 'Internship Train', 'Online work', 'Work for students', 'Social Work Intern'], \"Location\":['Dehradun, Uttarakhand, India', 'Dehradun, Uttarakhand, India','Ratlam, Madhya Pradesh, India', 'Noida, Uttar Pradesh, India', 'Jaisalmer, Rajasthan, India', 'Uttar Pradesh, India', 'New Delhi, Delhi, India']\n",
    "}\n",
    "df=pd.DataFrame(data)"
   ]
  },
  {
   "cell_type": "code",
   "execution_count": 138,
   "id": "c7718457",
   "metadata": {},
   "outputs": [
    {
     "data": {
      "text/html": [
       "<div>\n",
       "<style scoped>\n",
       "    .dataframe tbody tr th:only-of-type {\n",
       "        vertical-align: middle;\n",
       "    }\n",
       "\n",
       "    .dataframe tbody tr th {\n",
       "        vertical-align: top;\n",
       "    }\n",
       "\n",
       "    .dataframe thead th {\n",
       "        text-align: right;\n",
       "    }\n",
       "</style>\n",
       "<table border=\"1\" class=\"dataframe\">\n",
       "  <thead>\n",
       "    <tr style=\"text-align: right;\">\n",
       "      <th></th>\n",
       "      <th>Company Name</th>\n",
       "      <th>Job Title</th>\n",
       "      <th>Location</th>\n",
       "    </tr>\n",
       "  </thead>\n",
       "  <tbody>\n",
       "    <tr>\n",
       "      <th>0</th>\n",
       "      <td>Aashman foundation</td>\n",
       "      <td>Content writting internship</td>\n",
       "      <td>Dehradun, Uttarakhand, India</td>\n",
       "    </tr>\n",
       "    <tr>\n",
       "      <th>1</th>\n",
       "      <td>Aashman Foundation</td>\n",
       "      <td>Internship Train</td>\n",
       "      <td>Dehradun, Uttarakhand, India</td>\n",
       "    </tr>\n",
       "    <tr>\n",
       "      <th>2</th>\n",
       "      <td>Aashman Foundation</td>\n",
       "      <td>Online work</td>\n",
       "      <td>Ratlam, Madhya Pradesh, India</td>\n",
       "    </tr>\n",
       "    <tr>\n",
       "      <th>3</th>\n",
       "      <td>Forever Living Products India</td>\n",
       "      <td>Internship Train</td>\n",
       "      <td>Noida, Uttar Pradesh, India</td>\n",
       "    </tr>\n",
       "    <tr>\n",
       "      <th>4</th>\n",
       "      <td>Forever Living Products India</td>\n",
       "      <td>Online work</td>\n",
       "      <td>Jaisalmer, Rajasthan, India</td>\n",
       "    </tr>\n",
       "  </tbody>\n",
       "</table>\n",
       "</div>"
      ],
      "text/plain": [
       "                    Company Name                    Job Title  \\\n",
       "0             Aashman foundation  Content writting internship   \n",
       "1             Aashman Foundation             Internship Train   \n",
       "2             Aashman Foundation                  Online work   \n",
       "3  Forever Living Products India             Internship Train   \n",
       "4  Forever Living Products India                  Online work   \n",
       "\n",
       "                        Location  \n",
       "0   Dehradun, Uttarakhand, India  \n",
       "1   Dehradun, Uttarakhand, India  \n",
       "2  Ratlam, Madhya Pradesh, India  \n",
       "3    Noida, Uttar Pradesh, India  \n",
       "4    Jaisalmer, Rajasthan, India  "
      ]
     },
     "execution_count": 138,
     "metadata": {},
     "output_type": "execute_result"
    }
   ],
   "source": [
    "df.head()"
   ]
  },
  {
   "cell_type": "code",
   "execution_count": 140,
   "id": "828f6ee4",
   "metadata": {},
   "outputs": [],
   "source": [
    "df.to_csv(\"linkedin_scrapejobs.csv\")"
   ]
  },
  {
   "cell_type": "code",
   "execution_count": null,
   "id": "55d307cb",
   "metadata": {},
   "outputs": [],
   "source": []
  },
  {
   "cell_type": "code",
   "execution_count": null,
   "id": "48e2536c",
   "metadata": {},
   "outputs": [],
   "source": []
  },
  {
   "cell_type": "code",
   "execution_count": null,
   "id": "45c1a062",
   "metadata": {},
   "outputs": [],
   "source": []
  }
 ],
 "metadata": {
  "kernelspec": {
   "display_name": "Python 3",
   "language": "python",
   "name": "python3"
  },
  "language_info": {
   "codemirror_mode": {
    "name": "ipython",
    "version": 3
   },
   "file_extension": ".py",
   "mimetype": "text/x-python",
   "name": "python",
   "nbconvert_exporter": "python",
   "pygments_lexer": "ipython3",
   "version": "3.8.8"
  }
 },
 "nbformat": 4,
 "nbformat_minor": 5
}
